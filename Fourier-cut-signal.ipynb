{
 "cells": [
  {
   "cell_type": "markdown",
   "metadata": {
    "slideshow": {
     "slide_type": "slide"
    }
   },
   "source": [
    "# Heisenbergin epätarkkuusperiaate\n",
    "\n",
    "## ELEC-C3220 Kvantti-ilmiöt kevät 2018\n",
    "\n",
    "Tässä työkirjassa tutkitaan miten kvanttimekaanista hiukkasta kuvaavan aineaallon kuvaama sijainnin epämääräisyys $\\Delta x$ ja sen aineaallonpituuden epämääräisyys $\\Delta p_x = \\hbar \\Delta k_x$ kytkeytyvät toisiinsa. Molemmat epämääräisyydet ovat suureidensa standardipoikkeamia."
   ]
  },
  {
   "cell_type": "markdown",
   "metadata": {
    "slideshow": {
     "slide_type": "subslide"
    }
   },
   "source": [
    "This workbook written by Sami Kujala 2018.\n",
    "\n",
    "<a rel=\"license\" href=\"http://creativecommons.org/licenses/by-sa/4.0/\"><img alt=\"Creative Commons -lisenssi\" style=\"border-width:0\" src=\"https://i.creativecommons.org/l/by-sa/4.0/80x15.png\" /></a><br />Tämä teos on lisensoitu <a rel=\"license\" href=\"http://creativecommons.org/licenses/by-sa/4.0/\">Creative Commons Nimeä-JaaSamoin 4.0 Kansainvälinen -lisenssillä</a>."
   ]
  },
  {
   "cell_type": "markdown",
   "metadata": {
    "slideshow": {
     "slide_type": "slide"
    }
   },
   "source": [
    "## Pohjat kohdalleen\n",
    "\n",
    "Tehdään hiukan pohjakoodailua että saadaan homma toimimaan"
   ]
  },
  {
   "cell_type": "code",
   "execution_count": 1,
   "metadata": {
    "slideshow": {
     "slide_type": "subslide"
    }
   },
   "outputs": [],
   "source": [
    "# Pandas on data science -maailman de facto datan käsittely -kirjasto\n",
    "# https://pandas.pydata.org/\n",
    "import pandas as pd \n",
    "\n",
    "# Numpy on Pythonin numeerinen kirjasto\n",
    "# https://numpy.org\n",
    "import numpy as np"
   ]
  },
  {
   "cell_type": "code",
   "execution_count": 2,
   "metadata": {
    "slideshow": {
     "slide_type": "subslide"
    }
   },
   "outputs": [],
   "source": [
    "# Jupyter-työkirjan komento, jolla plottaukset saadaan osaksi työkirjaa \n",
    "%matplotlib inline"
   ]
  },
  {
   "cell_type": "code",
   "execution_count": 3,
   "metadata": {
    "slideshow": {
     "slide_type": "subslide"
    }
   },
   "outputs": [],
   "source": [
    "# Tutkittavan alueen rajat $x$-avaruudessa \n",
    "# Yksikkönä vaikkapa nanometri, jolloin tutkimusalue 1 mikrometri\n",
    "studyarea_extents = (-500, 500)\n",
    "\n",
    "# Jaetaan $x$-avaruus 10000 osaan, vrt. Matlab\n",
    "x = np.linspace(*studyarea_extents, 10000)\n",
    "\n",
    "# Askeleen koko $x$-avaruudessa \n",
    "spacestep = np.diff(x)[0]\n",
    "\n",
    "# Aallonpituus [nanometriä]\n",
    "wavelength = 1\n",
    "\n",
    "# Aaltoluku [1/nanometriä]\n",
    "k0 = 2 * np.pi / wavelength\n",
    "\n",
    "# Hiukkaselle rajattu alue [nm]\n",
    "epsilon = 5"
   ]
  },
  {
   "cell_type": "markdown",
   "metadata": {
    "slideshow": {
     "slide_type": "subslide"
    }
   },
   "source": [
    "Rakennetaan tässä Pandas DataFrame-olioon simulaatiot hiukkasesta.\n",
    "\n",
    "- x-alkiossa $x$-avaruus\n",
    "- y1-alkiossa hiukkanen on \"kaikkialla\"\n",
    "- y2-alkiossa hiukkanen on lokalisoitu $-10\\epsilon$ < x < $10\\epsilon$ katkaisemalla siniaalto\n",
    "- y3-alkiossa hiukkanen on lokalisoitu $-\\epsilon$ < x < $\\epsilon$ katkaisemalla siniaalto\n",
    "- y4-alkiossa hiukkanen on lokalisoitu $-\\epsilon$ < x < $\\epsilon$ moduloimalla siniaaltoa gaussin funktiolla\n",
    "- y5-alkiossa hiukkanen on lokalisoitu $-\\epsilon/10$ < x < $\\epsilon/10$ moduloimalla siniaaltoa gaussin funktiolla"
   ]
  },
  {
   "cell_type": "code",
   "execution_count": 4,
   "metadata": {
    "slideshow": {
     "slide_type": "subslide"
    }
   },
   "outputs": [],
   "source": [
    "# Huomaa, että aaltomuodoista otetaan itseisarvon neliö **2 -operaattorilla, koska tutkitaan hiukkasen \n",
    "# todennäköisyystiheyttä. Aaltomuoto itsessään on todennäköisyysamplitudi ja yleisessä tapauksessa kompleksinen\n",
    "data = pd.DataFrame({\n",
    "  \"x\": x,                     \n",
    "  \"y1\": np.sin(k0*x)**2, \n",
    "  \"y2\": np.piecewise(x, [x < -10*epsilon, (x >= -10*epsilon) & (x <= 10*epsilon), x > 10*epsilon], [lambda x: 0, lambda x: np.sin(k0*x)**2, lambda x: 0]),                     \n",
    "  \"y3\": np.piecewise(x, [x < -epsilon, (x >= -epsilon) & (x <= epsilon), x > epsilon], [lambda x: 0, lambda x: np.sin(k0*x)**2, lambda x: 0]),\n",
    "  \"y4\": (np.sin(k0*x) * np.exp(-x**2 / (2*epsilon)**2))**2,\n",
    "  \"y5\": (np.sin(k0*x) * np.exp(-x**2 / (2*epsilon/10)**2))**2,\n",
    "})"
   ]
  },
  {
   "cell_type": "markdown",
   "metadata": {
    "slideshow": {
     "slide_type": "slide"
    }
   },
   "source": [
    "## Plotataan hiukkanen eri tapauksissa\n",
    "\n",
    "Epämääräisyys hiukkasen sijainnissa $\\Delta x$ on verrannollinen \"pulssin\" leveyteen. Täsmällisesti ottaen Heisenbergin epätarkkuusperiaatteessa pulssin leveydeksi otetaan on pulssin leveyden standardipoikkeama."
   ]
  },
  {
   "cell_type": "code",
   "execution_count": 5,
   "metadata": {
    "slideshow": {
     "slide_type": "subslide"
    }
   },
   "outputs": [
    {
     "data": {
      "text/plain": [
       "<matplotlib.axes._subplots.AxesSubplot at 0x7efcf4846240>"
      ]
     },
     "execution_count": 5,
     "metadata": {},
     "output_type": "execute_result"
    },
    {
     "data": {
      "image/png": "[encoded data removed]",
      "text/plain": [
       "<matplotlib.figure.Figure at 0x7efcf0eaae10>"
      ]
     },
     "metadata": {},
     "output_type": "display_data"
    }
   ],
   "source": [
    "data.plot('x', 'y1')"
   ]
  },
  {
   "cell_type": "markdown",
   "metadata": {},
   "source": [
    "Menee hiukan puuroksi tiukan näytteistyksen takia. Aaltoa pitäisi olla koko plottausalueella."
   ]
  },
  {
   "cell_type": "code",
   "execution_count": 6,
   "metadata": {
    "slideshow": {
     "slide_type": "subslide"
    }
   },
   "outputs": [
    {
     "data": {
      "text/plain": [
       "<matplotlib.axes._subplots.AxesSubplot at 0x7efcf0eb8cf8>"
      ]
     },
     "execution_count": 6,
     "metadata": {},
     "output_type": "execute_result"
    },
    {
     "data": {
      "image/png": "[encoded data removed]",
      "text/plain": [
       "<matplotlib.figure.Figure at 0x7efcf0b782e8>"
      ]
     },
     "metadata": {},
     "output_type": "display_data"
    }
   ],
   "source": [
    "data.plot('x', 'y2')"
   ]
  },
  {
   "cell_type": "markdown",
   "metadata": {},
   "source": [
    "Aalto lokalisoituu hieman."
   ]
  },
  {
   "cell_type": "code",
   "execution_count": 7,
   "metadata": {
    "slideshow": {
     "slide_type": "subslide"
    }
   },
   "outputs": [
    {
     "data": {
      "text/plain": [
       "<matplotlib.axes._subplots.AxesSubplot at 0x7efcf0b5b6a0>"
      ]
     },
     "execution_count": 7,
     "metadata": {},
     "output_type": "execute_result"
    },
    {
     "data": {
      "image/png": "[encoded data removed]",
      "text/plain": [
       "<matplotlib.figure.Figure at 0x7efcf0a4f6d8>"
      ]
     },
     "metadata": {},
     "output_type": "display_data"
    }
   ],
   "source": [
    "data.plot('x', 'y3')"
   ]
  },
  {
   "cell_type": "markdown",
   "metadata": {},
   "source": [
    "Aalto lokalisoituu hieman enemmän."
   ]
  },
  {
   "cell_type": "code",
   "execution_count": 8,
   "metadata": {
    "slideshow": {
     "slide_type": "subslide"
    }
   },
   "outputs": [
    {
     "data": {
      "text/plain": [
       "<matplotlib.axes._subplots.AxesSubplot at 0x7efcf0ae27f0>"
      ]
     },
     "execution_count": 8,
     "metadata": {},
     "output_type": "execute_result"
    },
    {
     "data": {
      "image/png": "[encoded data removed]",
      "text/plain": [
       "<matplotlib.figure.Figure at 0x7efcf078fc50>"
      ]
     },
     "metadata": {},
     "output_type": "display_data"
    }
   ],
   "source": [
    "data.plot('x', 'y4')"
   ]
  },
  {
   "cell_type": "markdown",
   "metadata": {},
   "source": [
    "Aalto lokalisoituu gaussin kellokäyrän mukaisesti."
   ]
  },
  {
   "cell_type": "code",
   "execution_count": 9,
   "metadata": {
    "slideshow": {
     "slide_type": "subslide"
    }
   },
   "outputs": [
    {
     "data": {
      "text/plain": [
       "<matplotlib.axes._subplots.AxesSubplot at 0x7efcf072f7f0>"
      ]
     },
     "execution_count": 9,
     "metadata": {},
     "output_type": "execute_result"
    },
    {
     "data": {
      "image/png": "[encoded data removed]",
      "text/plain": [
       "<matplotlib.figure.Figure at 0x7efcf072bc50>"
      ]
     },
     "metadata": {},
     "output_type": "display_data"
    }
   ],
   "source": [
    "data.plot('x', 'y5')"
   ]
  },
  {
   "cell_type": "markdown",
   "metadata": {},
   "source": [
    "Aalto lokalisoituu gaussin kellokäyrän mukaisesti todella pienelle alueelle."
   ]
  },
  {
   "cell_type": "markdown",
   "metadata": {
    "slideshow": {
     "slide_type": "slide"
    }
   },
   "source": [
    "Hiukkanen saatiin lokalisoitua eri tavoin.  Tutkitaan seuraavaksi mitä merkitystä lokalisaatiolla on hiukkasen aaltoluvun kanssa."
   ]
  },
  {
   "cell_type": "code",
   "execution_count": 10,
   "metadata": {
    "slideshow": {
     "slide_type": "subslide"
    }
   },
   "outputs": [],
   "source": [
    "# Lasketaan jokaisen aaltomuodon Fourier-spektri FFT-operaatiolla (Fast Fourier Transform)\n",
    "# Koska nyt työskennellään numeerisesti ja sen takia näytteistetyn signaalin kanssa, \n",
    "# ei voida työskennellä signaalien jatkuvan Fourier-muunnoksen kanssa.\n",
    "#\n",
    "# FFT-muunnettu signaali jaetaan signaalin pituudella spektrin suuruuden normalisoimiseksi. \n",
    "# Johtuu taustalla olevasta numeerisesta kirjastosta.\n",
    "fft1 = np.fft.fft(data['y1'])/len(x)\n",
    "fft2 = np.fft.fft(data['y2'])/len(x)\n",
    "fft3 = np.fft.fft(data['y3'])/len(x)\n",
    "fft4 = np.fft.fft(data['y4'])/len(x)\n",
    "fft5 = np.fft.fft(data['y5'])/len(x)"
   ]
  },
  {
   "cell_type": "code",
   "execution_count": 11,
   "metadata": {
    "slideshow": {
     "slide_type": "subslide"
    }
   },
   "outputs": [],
   "source": [
    "# Muutetaan $x$-avaruuden jaottelu aaltoluku-avaruuteen, eli ns. $k$-avaruuteen\n",
    "k_sig = np.fft.fftfreq(x.size, spacestep)\n",
    "\n",
    "# FFT pilkkoo signaalin negatiivisiin ja positiivisiin taajuuksiin. Signaalin rekonstruoimiseksi\n",
    "# tarvitaan molemmat, mutta visualisoimiseksi ei tarvita.\n",
    "# Lisätietoa negatiivisista taajuuksista \n",
    "# https://dsp.stackexchange.com/questions/431/what-is-the-physical-significance-of-negative-frequencies\n",
    "#\n",
    "# valitaan idx-muuttujaan vain positiiviset taajuudet\n",
    "idx = np.where(k_sig >= 0)"
   ]
  },
  {
   "cell_type": "code",
   "execution_count": 12,
   "metadata": {
    "slideshow": {
     "slide_type": "subslide"
    }
   },
   "outputs": [],
   "source": [
    "k_sig = k_sig[idx]\n",
    "fft1 = fft1[idx]\n",
    "fft2 = fft2[idx]\n",
    "fft3 = fft3[idx]\n",
    "fft4 = fft4[idx]\n",
    "fft5 = fft5[idx]\n",
    "\n",
    "# Tallennetaan lasketut muunnokset ja $k$-avaruus uuteen DataFrameen\n",
    "# Hiukan tårta på tårtan, mutta tulipahan tehtyä\n",
    "fft = pd.DataFrame({\n",
    "    \"k\": k_sig, \n",
    "    \"FFT1\": np.abs((fft1)),\n",
    "    \"FFT2\": np.abs((fft2)),\n",
    "    \"FFT3\": np.abs((fft3)),\n",
    "    \"FFT4\": np.abs((fft4)),\n",
    "    \"FFT5\": np.abs((fft5))\n",
    "})"
   ]
  },
  {
   "cell_type": "code",
   "execution_count": 13,
   "metadata": {
    "slideshow": {
     "slide_type": "subslide"
    }
   },
   "outputs": [
    {
     "data": {
      "text/plain": [
       "<matplotlib.lines.Line2D at 0x7efcf03d4898>"
      ]
     },
     "execution_count": 13,
     "metadata": {},
     "output_type": "execute_result"
    },
    {
     "data": {
      "image/png": "[encoded data removed]",
      "text/plain": [
       "<matplotlib.figure.Figure at 0x7efcf071b438>"
      ]
     },
     "metadata": {},
     "output_type": "display_data"
    }
   ],
   "source": [
    "# Plotataan.\n",
    "# \n",
    "# Jokaiseen plottiin lisätään pystyviiva keskiaaltoluvun ympärille\n",
    "#\n",
    "fft.plot('k', 'FFT1').axvline(x=k0/np.pi, color='r', linestyle='-')"
   ]
  },
  {
   "cell_type": "markdown",
   "metadata": {
    "slideshow": {
     "slide_type": "-"
    }
   },
   "source": [
    "$k$-avaruudessa aaltoa vastaa yksi piikki. Sopii Heisenbergiin, koska jos $\\Delta x \\sim \\infty$, niin $\\Delta p_x \\sim 1$"
   ]
  },
  {
   "cell_type": "code",
   "execution_count": 14,
   "metadata": {
    "slideshow": {
     "slide_type": "subslide"
    }
   },
   "outputs": [
    {
     "data": {
      "text/plain": [
       "<matplotlib.lines.Line2D at 0x7efcf0af5128>"
      ]
     },
     "execution_count": 14,
     "metadata": {},
     "output_type": "execute_result"
    },
    {
     "data": {
      "image/png": "[encoded data removed]",
      "text/plain": [
       "<matplotlib.figure.Figure at 0x7efcf0364518>"
      ]
     },
     "metadata": {},
     "output_type": "display_data"
    }
   ],
   "source": [
    "fft.plot('k', 'FFT2').axvline(x=k0/np.pi, color='r', linestyle='-')"
   ]
  },
  {
   "cell_type": "markdown",
   "metadata": {},
   "source": [
    "$k$-avaruudessa aallon aaltolukujakauma $\\Delta k$ kasvaa hiukkasen lokalisaation parantuessa ($\\Delta x$) pienenee."
   ]
  },
  {
   "cell_type": "code",
   "execution_count": 15,
   "metadata": {
    "slideshow": {
     "slide_type": "subslide"
    }
   },
   "outputs": [
    {
     "data": {
      "text/plain": [
       "<matplotlib.lines.Line2D at 0x7efcf0b23d68>"
      ]
     },
     "execution_count": 15,
     "metadata": {},
     "output_type": "execute_result"
    },
    {
     "data": {
      "image/png": "[encoded data removed]",
      "text/plain": [
       "<matplotlib.figure.Figure at 0x7efcf0b23470>"
      ]
     },
     "metadata": {},
     "output_type": "display_data"
    }
   ],
   "source": [
    "fft.plot('k', 'FFT3').axvline(x=k0/np.pi, color='r', linestyle='-')"
   ]
  },
  {
   "cell_type": "markdown",
   "metadata": {},
   "source": [
    "$k$-avaruudessa aallon aaltolukujakauma $\\Delta k$ kasvaa hiukkasen lokalisaation parantuessa entisestään."
   ]
  },
  {
   "cell_type": "code",
   "execution_count": 16,
   "metadata": {
    "slideshow": {
     "slide_type": "subslide"
    }
   },
   "outputs": [
    {
     "data": {
      "text/plain": [
       "<matplotlib.lines.Line2D at 0x7efcf0290358>"
      ]
     },
     "execution_count": 16,
     "metadata": {},
     "output_type": "execute_result"
    },
    {
     "data": {
      "image/png": "[encoded data removed]",
      "text/plain": [
       "<matplotlib.figure.Figure at 0x7efcf0314390>"
      ]
     },
     "metadata": {},
     "output_type": "display_data"
    }
   ],
   "source": [
    "fft.plot('k', 'FFT4').axvline(x=k0/np.pi, color='r', linestyle='-')"
   ]
  },
  {
   "cell_type": "markdown",
   "metadata": {},
   "source": [
    "$x$-avaruudessa aallon leveys on jotakuinkin sama kuin edellisessä kuvassa, mutta aallon aaltolukujakauma \"siistiytyy\"."
   ]
  },
  {
   "cell_type": "code",
   "execution_count": 17,
   "metadata": {
    "slideshow": {
     "slide_type": "subslide"
    }
   },
   "outputs": [
    {
     "data": {
      "text/plain": [
       "<matplotlib.lines.Line2D at 0x7efcf02afe80>"
      ]
     },
     "execution_count": 17,
     "metadata": {},
     "output_type": "execute_result"
    },
    {
     "data": {
      "image/png": "[encoded data removed]",
      "text/plain": [
       "<matplotlib.figure.Figure at 0x7efcf02af470>"
      ]
     },
     "metadata": {},
     "output_type": "display_data"
    }
   ],
   "source": [
    "fft.plot('k', 'FFT5').axvline(x=k0/np.pi, color='r', linestyle='-')"
   ]
  },
  {
   "cell_type": "markdown",
   "metadata": {},
   "source": [
    "Tiukasti gaussin käyrällä $x$-avaruudessa lokalisoitu aalto on hyvin leveä $k$-avaruudessa."
   ]
  },
  {
   "cell_type": "markdown",
   "metadata": {
    "collapsed": true,
    "slideshow": {
     "slide_type": "slide"
    }
   },
   "source": [
    "# Valmista tuli!\n",
    "\n",
    "Tehtäviä sinulle!\n",
    "1. Miten epämääräisyys hiukkasen aaltoluvussa suhteutuu epämääräisyyteen hiukkasen sijainnissa?\n",
    "1. Miksi spektrissä on piikki myös aaltoluvun nolla kohdalla?\n",
    "1. Bonus: Miksi gaussinen modulaatio tuottaa \"siistimmän\" aaltolukujakauman kuin katkaistu sinikäyrä?  \n"
   ]
  }
 ],
 "metadata": {
  "celltoolbar": "Slideshow",
  "kernelspec": {
   "display_name": "Python 3.6",
   "language": "python",
   "name": "python36"
  },
  "language_info": {
   "codemirror_mode": {
    "name": "ipython",
    "version": 3
   },
   "file_extension": ".py",
   "mimetype": "text/x-python",
   "name": "python",
   "nbconvert_exporter": "python",
   "pygments_lexer": "ipython3",
   "version": "3.6.3"
  }
 },
 "nbformat": 4,
 "nbformat_minor": 2
}
