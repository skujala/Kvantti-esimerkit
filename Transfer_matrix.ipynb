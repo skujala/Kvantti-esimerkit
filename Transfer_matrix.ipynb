{
 "cells": [
  {
   "cell_type": "markdown",
   "metadata": {},
   "source": [
    "# Siirtomatriisit kvanttimekaniikan sirontaprobleemissa\n",
    "Tässä työkirjassa tutkitaan siirtomatriisien käyttämistä kvanttimekaniikan sirontaprobleemien ratkaisemiseen.\n",
    "\n",
    "This workbook written by Sami Kujala 2018.\n",
    "\n",
    "<a rel=\"license\" href=\"http://creativecommons.org/licenses/by-sa/4.0/\"><img alt=\"Creative Commons -lisenssi\" style=\"border-width:0\" src=\"https://i.creativecommons.org/l/by-sa/4.0/80x15.png\" /></a><br />Tämä teos on lisensoitu <a rel=\"license\" href=\"http://creativecommons.org/licenses/by-sa/4.0/\">Creative Commons Nimeä-JaaSamoin 4.0 Kansainvälinen -lisenssillä</a>."
   ]
  },
  {
   "cell_type": "markdown",
   "metadata": {},
   "source": [
    "Olkoon tutkittava potentiaali esitetty muodossa $U(x)$ ja rajattu alueeseen $a \\le x \\le b$, jolloin Schrödingerin yhtälö on ajasta riippumattomassa tapauksessa muotoa\n",
    "$$ -{\\hbar^2 \\over 2m} {d^2 \\psi(x) \\over dx^2} + U(x) \\psi(x) = E\\psi(x)$$\n",
    "\n",
    "Tasoaaltojen ja tuntemattomien amplitudien $A,B,C,D,E,F$ avulla ne voidaan esittää \n",
    "$$\\begin{align*}\n",
    "\\psi_{1}(x) &= A e^{ikx} + Be^{-ikx}, a < x  \\\\\n",
    "\\psi_{2}(x) &= C e^{ik^\\prime x} + De^{-ik^\\prime x}, a \\le x \\le b \\\\\n",
    "\\psi_{3}(x) &= E e^{ikx} + Fe^{-ikx}, x > b\n",
    "\\end{align*}$$\n",
    "\n",
    "Olkoon aaltofunktio $\\psi(x)$ potentiaalin sisällä $\\psi(x) = \\phi(x), x\\in [a,b]$. Jatkuvuus- ja sileysehtojen perusteella saadaan ehdot rajapinnoilla $x = a$ ja $x = b$:\n",
    "$$\\begin{align*}\n",
    "Ae^{ika} + Be^{-ika} &= Ce^{ik^\\prime a} + De^{-ik^\\prime a} \\\\\n",
    "ikAe^{ika} - ikBe^{-ika} &= ik^\\prime Ce^{ik^\\prime a} ik^\\prime De^{-ik^\\prime a} \\\\\n",
    "Ce^{ik^\\prime b} + De^{-ik^\\prime b} &= Ee^{ikb} + Fe^{-ikb} \\\\\n",
    "ik^\\prime Ce^{ik^\\prime b} - ik^\\prime De^{-ik^\\prime b} &= ik Ee^{ikb} -ik Fe^{-ikb} \n",
    "\\end{align*}$$\n",
    "\n",
    "Tästä saadaan muovailemalla matriisiyhtälöt\n",
    "$$\\begin{align*}\n",
    "\\underbrace{\\Biggl[\n",
    "\\begin{matrix}\n",
    "1 & 1 \\\\ ik & -ik\n",
    "\\end{matrix}\n",
    "\\Biggr]}_{=M}\n",
    "\\underbrace{\n",
    "\\Biggl[\n",
    "\\begin{matrix}\n",
    "e^{ika} & 0 \\\\ 0 & e^{-ika}\n",
    "\\end{matrix}\n",
    "\\Biggr]}_{=P_a}\n",
    "\\Biggl[\n",
    "\\begin{matrix}\n",
    "A \\\\ B\n",
    "\\end{matrix}\n",
    "\\Biggr]\n",
    "&= \n",
    "\\underbrace{\n",
    "\\Biggl[\n",
    "\\begin{matrix}\n",
    "1 & 1 \\\\ ik^\\prime & -ik^\\prime\n",
    "\\end{matrix}\n",
    "\\Biggr]}_{=N}\n",
    "\\underbrace{\n",
    "\\Biggl[\n",
    "\\begin{matrix}\n",
    "e^{ik^\\prime a} & 0 \\\\ 0 & e^{-ik^\\prime a}\n",
    "\\end{matrix}\n",
    "\\Biggr]}_{=P^\\prime_a}\n",
    "\\Biggl[\n",
    "\\begin{matrix}\n",
    "C \\\\ D\n",
    "\\end{matrix}\n",
    "\\Biggr] \\quad\\text{ja}\\\\\n",
    "\\underbrace{\n",
    "\\Biggl[\n",
    "\\begin{matrix}\n",
    "1 & 1 \\\\ ik^\\prime & -ik^\\prime\n",
    "\\end{matrix}\n",
    "\\Biggr]}_{=N}\n",
    "\\underbrace{\n",
    "\\Biggl[\n",
    "\\begin{matrix}\n",
    "e^{ik^\\prime b} & 0 \\\\ 0 & e^{-ik^\\prime b}\n",
    "\\end{matrix}\n",
    "\\Biggr]}_{=P^\\prime_b}\n",
    "\\Biggl[\n",
    "\\begin{matrix}\n",
    "C \\\\ D\n",
    "\\end{matrix}\n",
    "\\Biggr]\n",
    "&= \n",
    "\\underbrace{\n",
    "\\Biggl[\n",
    "\\begin{matrix}\n",
    "1 & 1 \\\\ ik & -ik\n",
    "\\end{matrix}\n",
    "\\Biggr]}_{=M}\n",
    "\\underbrace{\n",
    "\\Biggl[\n",
    "\\begin{matrix}\n",
    "e^{ikb} & 0 \\\\ 0 & e^{-ikb}\n",
    "\\end{matrix}\n",
    "\\Biggr]}_{=P_b}\n",
    "\\Biggl[\n",
    "\\begin{matrix}\n",
    "E \\\\ F\n",
    "\\end{matrix}\n",
    "\\Biggr] \\quad\\text{joten}\\\\\n",
    "\\end{align*}\n",
    "$$\n",
    "\n",
    "Tämä voidaan tiivistää ja muokata, jotta saadaan piilotettua kertoimet $C$ ja $D$ matriisituloihin:\n",
    "$$\n",
    "\\begin{align*}\n",
    "M P_a \\Biggl[\n",
    "\\begin{matrix}\n",
    "A \\\\ B\n",
    "\\end{matrix}\n",
    "\\Biggr] &=\n",
    "N P^\\prime_a \\Biggl[\n",
    "\\begin{matrix}\n",
    "C \\\\ D\n",
    "\\end{matrix}\n",
    "\\Biggr], \n",
    "N P^\\prime_b \\Biggl[\n",
    "\\begin{matrix}\n",
    "C \\\\ D\n",
    "\\end{matrix}\n",
    "\\Biggr] =\n",
    "M P_b \\Biggl[\n",
    "\\begin{matrix}\n",
    "E \\\\ F\n",
    "\\end{matrix}\n",
    "\\Biggr]\\\\\n",
    "\\Biggl[\n",
    "\\begin{matrix}\n",
    "A \\\\ B\n",
    "\\end{matrix}\n",
    "\\Biggr]\n",
    "&= \n",
    "\\underbrace{P_a^{-1}M^{-1} N P_a^\\prime\\cdot {P_b^\\prime}^{-1} N^{-1} M P_b}_{=A}\n",
    "\\Biggl[\n",
    "\\begin{matrix}\n",
    "E \\\\ F\n",
    "\\end{matrix}\n",
    "\\Biggr]\\\\\n",
    "\\end{align*}\n",
    "$$\n",
    "\n",
    "Kertoimet siis liittyvät toisiinsa kahdeksan $2\\times2$-matriisin tulon avulla. Nimet on valittu siten että $P_i$ kuvaa vaihetta (phase) pisteessä $i$ ja $M$ kuvaa aaltoa nollapotentiaalissa, sekä $N$ kuvaa aaltoa potentiaalivallissa. $A$ on niinsanottu systeemimatriisi, jossa on neljän matriisin tulo jokaista rajapintaa kohden.\n",
    "\n",
    "Tästä saadaan heijastus ja läpäisykertoimet\n",
    "$$\n",
    "\\Biggl[\n",
    "\\begin{matrix}\n",
    "1 \\\\ R\n",
    "\\end{matrix}\n",
    "\\Biggr] = \n",
    "\\Biggl[\n",
    "\\begin{matrix}\n",
    "A_{11} & A_{12} \\\\ A_{21} & A_{22}\n",
    "\\end{matrix}\n",
    "\\Biggr]\n",
    "\\Biggl[\n",
    "\\begin{matrix}\n",
    "T \\\\ 0\n",
    "\\end{matrix}\n",
    "\\Biggr] \\implies T = {1\\over A_{11}} \\text{ ja } R = {A_{21}\\over A_{11}}\n",
    "$$\n",
    "\n",
    "Huomaa että matriisien kertomisjärjestystä ei saa vaihtaa! Muista myös että $\\displaystyle k = \\sqrt{2mE\\over \\hbar^2}$ ja $\\displaystyle k = \\sqrt{2m(E-U0)\\over \\hbar^2}$."
   ]
  },
  {
   "cell_type": "markdown",
   "metadata": {
    "collapsed": true
   },
   "source": [
    "## Tutkitaan yhden potentiaalin heijastusta ja läpäisyä Pythonin avulla\n",
    "\n",
    "Käytetään apuna Sympy:a - se on Pythonin symbolisen laskennan kirjasto. Käytetään sitä sieventämään matriiseja ja toteamaan, että saadaan sama tulos kuin luentokalvoilla.\n",
    "\n",
    "Plottaamista varten sitä ei välttämättä tarvita."
   ]
  },
  {
   "cell_type": "code",
   "execution_count": 1,
   "metadata": {},
   "outputs": [],
   "source": [
    "%matplotlib inline\n",
    "\n",
    "import numpy as np\n",
    "import matplotlib.pyplot as plt\n",
    "\n",
    "import sympy as sp"
   ]
  },
  {
   "cell_type": "code",
   "execution_count": 2,
   "metadata": {},
   "outputs": [],
   "source": [
    "# Sympy osaa tulostaa siististi ladottuja kaavoja ja yhtälöitä tämän avulla\n",
    "sp.init_printing()"
   ]
  },
  {
   "cell_type": "code",
   "execution_count": 3,
   "metadata": {},
   "outputs": [
    {
     "data": {
      "text/latex": [
       "$$\\left ( \\left[\\begin{matrix}1 & 1\\\\i k & - i k\\end{matrix}\\right], \\quad \\left[\\begin{matrix}1 & 1\\\\i k_{p} & - i k_{p}\\end{matrix}\\right]\\right )$$"
      ],
      "text/plain": [
       "⎛⎡ 1    1  ⎤  ⎡ 1      1  ⎤⎞\n",
       "⎜⎢         ⎥, ⎢           ⎥⎟\n",
       "⎝⎣ⅈ⋅k  -ⅈ⋅k⎦  ⎣ⅈ⋅kₚ  -ⅈ⋅kₚ⎦⎠"
      ]
     },
     "execution_count": 3,
     "metadata": {},
     "output_type": "execute_result"
    }
   ],
   "source": [
    "# Luodaan tarvittavat symbolit\n",
    "k, kp, x, a, b, L, U0, E = sp.symbols('k, k_p, x, a, b, L, U_0, E', real=True)\n",
    "\n",
    "# Tehdään symboliset matriisit M ja N\n",
    "M = sp.Matrix([[1, 1], [sp.I*k, -sp.I*k]])\n",
    "N = sp.Matrix([[1, 1], [sp.I*kp, -sp.I*kp]])\n",
    "\n",
    "M, N"
   ]
  },
  {
   "cell_type": "code",
   "execution_count": 4,
   "metadata": {},
   "outputs": [
    {
     "data": {
      "text/latex": [
       "$$\\left ( \\left[\\begin{matrix}e^{i a k} & 0\\\\0 & e^{- i a k}\\end{matrix}\\right], \\quad \\left[\\begin{matrix}e^{i a k_{p}} & 0\\\\0 & e^{- i a k_{p}}\\end{matrix}\\right], \\quad \\left[\\begin{matrix}e^{i b k} & 0\\\\0 & e^{- i b k}\\end{matrix}\\right], \\quad \\left[\\begin{matrix}e^{i b k_{p}} & 0\\\\0 & e^{- i b k_{p}}\\end{matrix}\\right]\\right )$$"
      ],
      "text/plain": [
       "⎛⎡ ⅈ⋅a⋅k         ⎤  ⎡ ⅈ⋅a⋅kₚ          ⎤  ⎡ ⅈ⋅b⋅k         ⎤  ⎡ ⅈ⋅b⋅kₚ          \n",
       "⎜⎢ℯ          0   ⎥  ⎢ℯ           0    ⎥  ⎢ℯ          0   ⎥  ⎢ℯ           0    \n",
       "⎜⎢               ⎥, ⎢                 ⎥, ⎢               ⎥, ⎢                 \n",
       "⎜⎢         -ⅈ⋅a⋅k⎥  ⎢          -ⅈ⋅a⋅kₚ⎥  ⎢         -ⅈ⋅b⋅k⎥  ⎢          -ⅈ⋅b⋅kₚ\n",
       "⎝⎣  0     ℯ      ⎦  ⎣   0     ℯ       ⎦  ⎣  0     ℯ      ⎦  ⎣   0     ℯ       \n",
       "\n",
       "⎤⎞\n",
       "⎥⎟\n",
       "⎥⎟\n",
       "⎥⎟\n",
       "⎦⎠"
      ]
     },
     "execution_count": 4,
     "metadata": {},
     "output_type": "execute_result"
    }
   ],
   "source": [
    "# Ja symboliset vaihematriisit\n",
    "\n",
    "P_a  = sp.Matrix([[sp.exp(sp.I*k*a),  0], [0, sp.exp(-sp.I*k*a)]])\n",
    "P_ap = sp.Matrix([[sp.exp(sp.I*kp*a), 0], [0, sp.exp(-sp.I*kp*a)]]) \n",
    "P_b  = sp.Matrix([[sp.exp(sp.I*k*b),  0], [0, sp.exp(-sp.I*k*b)]]) \n",
    "P_bp = sp.Matrix([[sp.exp(sp.I*kp*b), 0], [0, sp.exp(-sp.I*kp*b)]]) \n",
    "\n",
    "P_a, P_ap, P_b, P_bp"
   ]
  },
  {
   "cell_type": "code",
   "execution_count": 5,
   "metadata": {},
   "outputs": [],
   "source": [
    "# Systeemimatriisi\n",
    "A = P_a**-1 * M**-1 * N * P_ap * P_bp**-1 * N**-1 * M * P_b"
   ]
  },
  {
   "cell_type": "code",
   "execution_count": 6,
   "metadata": {},
   "outputs": [],
   "source": [
    "# transmissio- ja heijastuskertoimet\n",
    "\n",
    "t = (1/A[0,0]).subs(a,0).subs(b,L)\n",
    "r = (A[1,0]/A[0,0]).subs(a,0).subs(b,L)"
   ]
  },
  {
   "cell_type": "code",
   "execution_count": 7,
   "metadata": {
    "scrolled": true
   },
   "outputs": [
    {
     "data": {
      "image/png": "[encoded data removed]",
      "text/latex": [
       "$$\\left ( \\frac{4 k^{2} k_{p}^{2}}{k^{4} \\sin^{2}{\\left (L k_{p} \\right )} - 2 k^{2} k_{p}^{2} \\sin^{2}{\\left (L k_{p} \\right )} + 4 k^{2} k_{p}^{2} + k_{p}^{4} \\sin^{2}{\\left (L k_{p} \\right )}}, \\quad \\frac{\\left(k^{4} - 2 k^{2} k_{p}^{2} + k_{p}^{4}\\right) \\sin^{2}{\\left (L k_{p} \\right )}}{k^{4} \\sin^{2}{\\left (L k_{p} \\right )} - 2 k^{2} k_{p}^{2} \\sin^{2}{\\left (L k_{p} \\right )} + 4 k^{2} k_{p}^{2} + k_{p}^{4} \\sin^{2}{\\left (L k_{p} \\right )}}\\right )$$"
      ],
      "text/plain": [
       "⎛                               2   2                                         \n",
       "⎜                            4⋅k ⋅kₚ                                          \n",
       "⎜───────────────────────────────────────────────────────────────, ────────────\n",
       "⎜ 4    2            2   2    2            2   2     4    2         4    2     \n",
       "⎝k ⋅sin (L⋅kₚ) - 2⋅k ⋅kₚ ⋅sin (L⋅kₚ) + 4⋅k ⋅kₚ  + kₚ ⋅sin (L⋅kₚ)  k ⋅sin (L⋅kₚ\n",
       "\n",
       "    ⎛ 4      2   2     4⎞    2                     ⎞\n",
       "    ⎝k  - 2⋅k ⋅kₚ  + kₚ ⎠⋅sin (L⋅kₚ)               ⎟\n",
       "───────────────────────────────────────────────────⎟\n",
       "       2   2    2            2   2     4    2      ⎟\n",
       ") - 2⋅k ⋅kₚ ⋅sin (L⋅kₚ) + 4⋅k ⋅kₚ  + kₚ ⋅sin (L⋅kₚ)⎠"
      ]
     },
     "execution_count": 7,
     "metadata": {},
     "output_type": "execute_result"
    }
   ],
   "source": [
    "# Tässä ne voidaan plotata siististi. Se on aika raskas operaatio, jossa kestää kauan\n",
    "\n",
    "T = sp.simplify(sp.expand_complex(sp.conjugate(t)*t))\n",
    "R = sp.simplify(sp.expand_complex(sp.conjugate(r)*r))\n",
    "T,R"
   ]
  },
  {
   "cell_type": "markdown",
   "metadata": {},
   "source": [
    "Nämähän ovat luennoillakin saadut tulokset!"
   ]
  },
  {
   "cell_type": "code",
   "execution_count": 8,
   "metadata": {},
   "outputs": [],
   "source": [
    "# Muutetaan symboliset heijastus- ja läpäisykertoimet Numpylle kelpaaviksi funktioiksi\n",
    "# Toimivat nopeammin\n",
    "# http://docs.sympy.org/0.7.4/modules/numeric-computation.html\n",
    "\n",
    "r_f = sp.lambdify([E,U0], r.subs(L,1).subs(k, sp.sqrt(E)).subs(kp, sp.sqrt(E-U0)), 'numpy')\n",
    "t_f = sp.lambdify([E,U0], t.subs(L,1).subs(k, sp.sqrt(E)).subs(kp, sp.sqrt(E-U0)), 'numpy')"
   ]
  },
  {
   "cell_type": "code",
   "execution_count": 9,
   "metadata": {},
   "outputs": [
    {
     "data": {
      "text/plain": [
       "[<matplotlib.lines.Line2D at 0x7f4ed1ec9d68>]"
      ]
     },
     "execution_count": 9,
     "metadata": {},
     "output_type": "execute_result"
    },
    {
     "data": {
      "image/png": "[encoded data removed]",
      "text/plain": [
       "<matplotlib.figure.Figure at 0x7f4ed1ec9438>"
      ]
     },
     "metadata": {},
     "output_type": "display_data"
    }
   ],
   "source": [
    "# Plotataan funktiot\n",
    "\n",
    "U_0 = 25\n",
    "\n",
    "# Numpy:n sqrt edellyttää kompleksiset argumentit, jotta E < U0, jolloin k' on kompleksinen\n",
    "# Pikku huijaus\n",
    "E_ = np.linspace(0.001, 5*U_0, 500, dtype=np.complex128)\n",
    "\n",
    "# Sinisellä transmissio\n",
    "plt.plot(np.real(E_), np.abs(t_f(E_, U_0))**2, 'b')\n",
    "\n",
    "# Punaisella heijastus\n",
    "plt.plot(np.real(E_), np.abs(r_f(E_, U_0))**2, 'r')"
   ]
  },
  {
   "cell_type": "markdown",
   "metadata": {
    "collapsed": true
   },
   "source": [
    "Hyvältä näyttää, eikös! Huomattavasti kätevämpää kuin käsin nyplääminen."
   ]
  }
 ],
 "metadata": {
  "kernelspec": {
   "display_name": "Python 3.6",
   "language": "python",
   "name": "python36"
  },
  "language_info": {
   "codemirror_mode": {
    "name": "ipython",
    "version": 3
   },
   "file_extension": ".py",
   "mimetype": "text/x-python",
   "name": "python",
   "nbconvert_exporter": "python",
   "pygments_lexer": "ipython3",
   "version": "3.6.3"
  }
 },
 "nbformat": 4,
 "nbformat_minor": 2
}
